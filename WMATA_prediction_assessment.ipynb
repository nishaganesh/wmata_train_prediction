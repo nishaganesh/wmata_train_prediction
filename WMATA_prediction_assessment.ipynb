{
 "cells": [
  {
   "cell_type": "code",
   "execution_count": 1,
   "metadata": {},
   "outputs": [],
   "source": [
    "import pandas as pd\n",
    "import numpy as np\n",
    "from sklearn.linear_model import LogisticRegression\n",
    "from sklearn.model_selection import train_test_split\n",
    "from sklearn.metrics import mean_squared_error\n",
    "from sklearn.neural_network import MLPClassifier, MLPRegressor\n",
    "\n",
    "%matplotlib inline\n",
    "\n",
    "import category_encoders as ce"
   ]
  },
  {
   "cell_type": "code",
   "execution_count": 69,
   "metadata": {},
   "outputs": [],
   "source": [
    "df1 = pd.read_csv('.\\\\Washington Metropolitan Area Transit Authority\\\\wmata_train_predictions\\\\train_predictions.csv')"
   ]
  },
  {
   "cell_type": "code",
   "execution_count": 70,
   "metadata": {},
   "outputs": [],
   "source": [
    "df2 = pd.read_csv('.\\\\Washington Metropolitan Area Transit Authority\\\\wmata_train_predictions\\\\train_arrivals.csv')"
   ]
  },
  {
   "cell_type": "code",
   "execution_count": 71,
   "metadata": {},
   "outputs": [],
   "source": [
    "df1['PREDICTION_DTM'] = pd.to_datetime(df1['PREDICTION_DTM'], errors='ignore')\n",
    "df1['Hour'] = df1['PREDICTION_DTM'].dt.hour\n",
    "df1['Day'] = df1['PREDICTION_DTM'].dt.day\n",
    "df1['New_ID'] = df1.UNIQUE_TRAIN_INDEX + df1.TRAIN_NUMBER + df1.STATION_ID + df1.PLATFORM_NUMBER.map(str) + df1.Hour.map(str) + df1.Day.map(str)"
   ]
  },
  {
   "cell_type": "code",
   "execution_count": 72,
   "metadata": {},
   "outputs": [],
   "source": [
    "df2.ARRIVALTIME = pd.to_datetime(df2['ARRIVALTIME'], errors='ignore')\n",
    "df2['Hour'] = df2['ARRIVALTIME'].dt.hour\n",
    "df2['Day'] = df2['ARRIVALTIME'].dt.day\n",
    "df2['New_ID'] = df2.UNIQUE_TRAIN_INDEX.map(str) + df2.TRAIN_NUMBER.map(str) + df2.STATION_ID + df2.PLATFORM_NUMBER.map(str) + df2.Hour.map(str) + df2.Day.map(str)"
   ]
  },
  {
   "cell_type": "code",
   "execution_count": 78,
   "metadata": {},
   "outputs": [],
   "source": [
    "df1 = df1[df1.TRAIN_NUMBER != '0']\n",
    "df1 = df1[df1.IS_FROM_SCHEDULE == 0]\n",
    "df1 = df1[df1.IS_REVENUE == 1]"
   ]
  },
  {
   "cell_type": "code",
   "execution_count": 79,
   "metadata": {},
   "outputs": [
    {
     "name": "stdout",
     "output_type": "stream",
     "text": [
      "(6326371, 12)\n",
      "(325348,)\n"
     ]
    }
   ],
   "source": [
    "print(df1.shape)\n",
    "print(df1.New_ID.unique().shape)"
   ]
  },
  {
   "cell_type": "code",
   "execution_count": 80,
   "metadata": {},
   "outputs": [
    {
     "name": "stdout",
     "output_type": "stream",
     "text": [
      "(210187, 9)\n",
      "(210187,)\n"
     ]
    }
   ],
   "source": [
    "print(df2.shape)\n",
    "print(df2.New_ID.unique().shape)"
   ]
  },
  {
   "cell_type": "code",
   "execution_count": 81,
   "metadata": {},
   "outputs": [],
   "source": [
    "df2.drop_duplicates(subset='New_ID', keep=\"first\", inplace=True)"
   ]
  },
  {
   "cell_type": "code",
   "execution_count": 82,
   "metadata": {},
   "outputs": [
    {
     "data": {
      "text/plain": [
       "array(['A01', 'A02', 'A03', 'A04', 'A05', 'A06', 'A07', 'A08', 'A09',\n",
       "       'A10', 'A11', 'A12', 'A13', 'A14', 'A15', 'B01', 'B02', 'B03',\n",
       "       'B04', 'B05', 'B06', 'B07', 'B08', 'B09', 'B10', 'B11', 'B35',\n",
       "       'C01', 'C02', 'C03', 'C04', 'C05', 'C06', 'C07', 'C08', 'C09',\n",
       "       'C10', 'C12', 'C13', 'C14', 'C15', 'D01', 'D02', 'D03', 'D04',\n",
       "       'D05', 'D06', 'D07', 'D08', 'D09', 'D10', 'D11', 'D12', 'D13',\n",
       "       'E01', 'E02', 'E03', 'E04', 'E05', 'E06', 'E07', 'E08', 'E09',\n",
       "       'E10', 'F01', 'F02', 'F03', 'F04', 'F05', 'F06', 'F07', 'F08',\n",
       "       'F09', 'F10', 'F11', 'G01', 'G02', 'G03', 'G04', 'G05', 'J02',\n",
       "       'J03', 'K01', 'K02', 'K03', 'K04', 'K05', 'K06', 'K07', 'K08',\n",
       "       'N01', 'N02', 'N03', 'N04', 'N06'], dtype=object)"
      ]
     },
     "execution_count": 82,
     "metadata": {},
     "output_type": "execute_result"
    }
   ],
   "source": [
    "df1.STATION_ID.unique()"
   ]
  },
  {
   "cell_type": "markdown",
   "metadata": {},
   "source": [
    "%%time\n",
    "def merge_arrival_and_predictions(arrival, prediction):\n",
    "    prediction['ARRIVALTIME'] = np.nan\n",
    "    for index, row in arrival.iterrows():\n",
    "        #mask = prediction[prediction.New_ID == row.New_ID]\n",
    "        #prediction[mask]['ARRIVALTIME'] = row.ARRIVALTIME\n",
    "        prediction.loc[prediction['New_ID'] == row.New_ID, 'ARRIVALTIME'] = row.ARRIVALTIME\n",
    "    return prediction\n",
    "\n",
    "x = merge_arrival_and_predictions(df2.head(100), df1.head(500))"
   ]
  },
  {
   "cell_type": "code",
   "execution_count": 83,
   "metadata": {},
   "outputs": [],
   "source": [
    "df3 = df1.merge(df2, left_on='New_ID', right_on='New_ID')"
   ]
  },
  {
   "cell_type": "code",
   "execution_count": 84,
   "metadata": {},
   "outputs": [
    {
     "data": {
      "text/html": [
       "<div>\n",
       "<style scoped>\n",
       "    .dataframe tbody tr th:only-of-type {\n",
       "        vertical-align: middle;\n",
       "    }\n",
       "\n",
       "    .dataframe tbody tr th {\n",
       "        vertical-align: top;\n",
       "    }\n",
       "\n",
       "    .dataframe thead th {\n",
       "        text-align: right;\n",
       "    }\n",
       "</style>\n",
       "<table border=\"1\" class=\"dataframe\">\n",
       "  <thead>\n",
       "    <tr style=\"text-align: right;\">\n",
       "      <th></th>\n",
       "      <th>PREDICTION_DTM</th>\n",
       "      <th>STATION_ID_x</th>\n",
       "      <th>PLATFORM_NUMBER_x</th>\n",
       "      <th>LINE_CODE</th>\n",
       "      <th>IS_REVENUE</th>\n",
       "      <th>IS_FROM_SCHEDULE</th>\n",
       "      <th>UNIQUE_TRAIN_INDEX_x</th>\n",
       "      <th>TRAIN_NUMBER_x</th>\n",
       "      <th>ETA</th>\n",
       "      <th>Hour_x</th>\n",
       "      <th>Day_x</th>\n",
       "      <th>New_ID</th>\n",
       "      <th>PLATFORM</th>\n",
       "      <th>ARRIVALTIME</th>\n",
       "      <th>STATION_ID_y</th>\n",
       "      <th>PLATFORM_NUMBER_y</th>\n",
       "      <th>UNIQUE_TRAIN_INDEX_y</th>\n",
       "      <th>TRAIN_NUMBER_y</th>\n",
       "      <th>Hour_y</th>\n",
       "      <th>Day_y</th>\n",
       "    </tr>\n",
       "  </thead>\n",
       "  <tbody>\n",
       "    <tr>\n",
       "      <th>0</th>\n",
       "      <td>2019-01-22 05:00:31</td>\n",
       "      <td>A01</td>\n",
       "      <td>1</td>\n",
       "      <td>RD</td>\n",
       "      <td>1</td>\n",
       "      <td>0</td>\n",
       "      <td>245</td>\n",
       "      <td>113</td>\n",
       "      <td>2061</td>\n",
       "      <td>5</td>\n",
       "      <td>22</td>\n",
       "      <td>245113A011522</td>\n",
       "      <td>A01-1</td>\n",
       "      <td>2019-01-22 05:35:48</td>\n",
       "      <td>A01</td>\n",
       "      <td>1</td>\n",
       "      <td>245</td>\n",
       "      <td>113</td>\n",
       "      <td>5</td>\n",
       "      <td>22</td>\n",
       "    </tr>\n",
       "    <tr>\n",
       "      <th>1</th>\n",
       "      <td>2019-01-22 05:01:32</td>\n",
       "      <td>A01</td>\n",
       "      <td>1</td>\n",
       "      <td>RD</td>\n",
       "      <td>1</td>\n",
       "      <td>0</td>\n",
       "      <td>245</td>\n",
       "      <td>113</td>\n",
       "      <td>1994</td>\n",
       "      <td>5</td>\n",
       "      <td>22</td>\n",
       "      <td>245113A011522</td>\n",
       "      <td>A01-1</td>\n",
       "      <td>2019-01-22 05:35:48</td>\n",
       "      <td>A01</td>\n",
       "      <td>1</td>\n",
       "      <td>245</td>\n",
       "      <td>113</td>\n",
       "      <td>5</td>\n",
       "      <td>22</td>\n",
       "    </tr>\n",
       "    <tr>\n",
       "      <th>2</th>\n",
       "      <td>2019-01-22 05:02:33</td>\n",
       "      <td>A01</td>\n",
       "      <td>1</td>\n",
       "      <td>RD</td>\n",
       "      <td>1</td>\n",
       "      <td>0</td>\n",
       "      <td>245</td>\n",
       "      <td>113</td>\n",
       "      <td>1926</td>\n",
       "      <td>5</td>\n",
       "      <td>22</td>\n",
       "      <td>245113A011522</td>\n",
       "      <td>A01-1</td>\n",
       "      <td>2019-01-22 05:35:48</td>\n",
       "      <td>A01</td>\n",
       "      <td>1</td>\n",
       "      <td>245</td>\n",
       "      <td>113</td>\n",
       "      <td>5</td>\n",
       "      <td>22</td>\n",
       "    </tr>\n",
       "    <tr>\n",
       "      <th>3</th>\n",
       "      <td>2019-01-22 05:03:34</td>\n",
       "      <td>A01</td>\n",
       "      <td>1</td>\n",
       "      <td>RD</td>\n",
       "      <td>1</td>\n",
       "      <td>0</td>\n",
       "      <td>245</td>\n",
       "      <td>113</td>\n",
       "      <td>1822</td>\n",
       "      <td>5</td>\n",
       "      <td>22</td>\n",
       "      <td>245113A011522</td>\n",
       "      <td>A01-1</td>\n",
       "      <td>2019-01-22 05:35:48</td>\n",
       "      <td>A01</td>\n",
       "      <td>1</td>\n",
       "      <td>245</td>\n",
       "      <td>113</td>\n",
       "      <td>5</td>\n",
       "      <td>22</td>\n",
       "    </tr>\n",
       "    <tr>\n",
       "      <th>4</th>\n",
       "      <td>2019-01-22 05:04:34</td>\n",
       "      <td>A01</td>\n",
       "      <td>1</td>\n",
       "      <td>RD</td>\n",
       "      <td>1</td>\n",
       "      <td>0</td>\n",
       "      <td>245</td>\n",
       "      <td>113</td>\n",
       "      <td>1804</td>\n",
       "      <td>5</td>\n",
       "      <td>22</td>\n",
       "      <td>245113A011522</td>\n",
       "      <td>A01-1</td>\n",
       "      <td>2019-01-22 05:35:48</td>\n",
       "      <td>A01</td>\n",
       "      <td>1</td>\n",
       "      <td>245</td>\n",
       "      <td>113</td>\n",
       "      <td>5</td>\n",
       "      <td>22</td>\n",
       "    </tr>\n",
       "  </tbody>\n",
       "</table>\n",
       "</div>"
      ],
      "text/plain": [
       "       PREDICTION_DTM STATION_ID_x  PLATFORM_NUMBER_x LINE_CODE  IS_REVENUE  \\\n",
       "0 2019-01-22 05:00:31          A01                  1        RD           1   \n",
       "1 2019-01-22 05:01:32          A01                  1        RD           1   \n",
       "2 2019-01-22 05:02:33          A01                  1        RD           1   \n",
       "3 2019-01-22 05:03:34          A01                  1        RD           1   \n",
       "4 2019-01-22 05:04:34          A01                  1        RD           1   \n",
       "\n",
       "   IS_FROM_SCHEDULE UNIQUE_TRAIN_INDEX_x TRAIN_NUMBER_x   ETA  Hour_x  Day_x  \\\n",
       "0                 0                  245            113  2061       5     22   \n",
       "1                 0                  245            113  1994       5     22   \n",
       "2                 0                  245            113  1926       5     22   \n",
       "3                 0                  245            113  1822       5     22   \n",
       "4                 0                  245            113  1804       5     22   \n",
       "\n",
       "          New_ID PLATFORM         ARRIVALTIME STATION_ID_y  PLATFORM_NUMBER_y  \\\n",
       "0  245113A011522    A01-1 2019-01-22 05:35:48          A01                  1   \n",
       "1  245113A011522    A01-1 2019-01-22 05:35:48          A01                  1   \n",
       "2  245113A011522    A01-1 2019-01-22 05:35:48          A01                  1   \n",
       "3  245113A011522    A01-1 2019-01-22 05:35:48          A01                  1   \n",
       "4  245113A011522    A01-1 2019-01-22 05:35:48          A01                  1   \n",
       "\n",
       "   UNIQUE_TRAIN_INDEX_y  TRAIN_NUMBER_y  Hour_y  Day_y  \n",
       "0                   245             113       5     22  \n",
       "1                   245             113       5     22  \n",
       "2                   245             113       5     22  \n",
       "3                   245             113       5     22  \n",
       "4                   245             113       5     22  "
      ]
     },
     "execution_count": 84,
     "metadata": {},
     "output_type": "execute_result"
    }
   ],
   "source": [
    "df3.head()"
   ]
  },
  {
   "cell_type": "markdown",
   "metadata": {},
   "source": [
    "def merge_arrival_and_predictions(arrival, prediction):\n",
    "    prediction['ARRIVALTIME'] = np.nan\n",
    "    for index, row in arrival.iterrows():\n",
    "        prediction['ARRIVALTIME'] = np.where(prediction['New_ID'] == row.New_ID, row.ARRIVALTIME, np.nan)\n",
    "\n",
    "merge_arrival_and_predictions(df2, df1)"
   ]
  },
  {
   "cell_type": "markdown",
   "metadata": {},
   "source": [
    "df1.to_csv('df1.csv', encoding='utf-8')\n",
    "df2.to_csv('df2.csv', encoding='utf-8')"
   ]
  },
  {
   "cell_type": "code",
   "execution_count": 85,
   "metadata": {},
   "outputs": [],
   "source": [
    "df4 = pd.DataFrame()\n",
    "df4['New_ID'] = df3.New_ID\n",
    "df4['ARRIVALTIME'] = df3.ARRIVALTIME\n",
    "df4['PREDICTION_DTM'] = df3.PREDICTION_DTM\n",
    "df4['ETA'] = df3.ETA"
   ]
  },
  {
   "cell_type": "code",
   "execution_count": 86,
   "metadata": {},
   "outputs": [
    {
     "name": "stdout",
     "output_type": "stream",
     "text": [
      "<class 'pandas.core.frame.DataFrame'>\n",
      "Int64Index: 3408204 entries, 0 to 3408203\n",
      "Data columns (total 4 columns):\n",
      "New_ID            object\n",
      "ARRIVALTIME       datetime64[ns]\n",
      "PREDICTION_DTM    datetime64[ns]\n",
      "ETA               int64\n",
      "dtypes: datetime64[ns](2), int64(1), object(1)\n",
      "memory usage: 130.0+ MB\n"
     ]
    }
   ],
   "source": [
    "df4.info()"
   ]
  },
  {
   "cell_type": "markdown",
   "metadata": {},
   "source": [
    "def time_diff(pred, arr):\n",
    "    x = (pred.hour*3600+pred.minute*60+pred.second)/60\n",
    "    y = (arr.hour*3600+arr.minute*60+arr.second)/60\n",
    "    return x - y"
   ]
  },
  {
   "cell_type": "markdown",
   "metadata": {},
   "source": [
    "df4['diff'] = df4.apply(lambda row: time_diff(row.PREDICTION_DTM, row.ARRIVALTIME), axis=1)"
   ]
  },
  {
   "cell_type": "code",
   "execution_count": 87,
   "metadata": {},
   "outputs": [],
   "source": [
    "df4['test'] = df4.PREDICTION_DTM + df4.ETA.astype(\"timedelta64[s]\")"
   ]
  },
  {
   "cell_type": "code",
   "execution_count": 88,
   "metadata": {},
   "outputs": [],
   "source": [
    "p_date = df4['test'].dt\n",
    "a_date = df4['ARRIVALTIME'].dt\n",
    "df4['pred_time'] = (p_date.hour*3600+p_date.minute*60+p_date.second)/60\n",
    "df4['arr_time'] = (a_date.hour*3600+a_date.minute*60+a_date.second)/60\n",
    "df4['Hour'] = a_date.hour\n",
    "df4['Day'] = a_date.day"
   ]
  },
  {
   "cell_type": "code",
   "execution_count": 89,
   "metadata": {},
   "outputs": [],
   "source": [
    "df4['diff'] = df4.pred_time - df4.arr_time"
   ]
  },
  {
   "cell_type": "code",
   "execution_count": 90,
   "metadata": {},
   "outputs": [],
   "source": [
    "df4['diff_pos'] = df4['diff'].abs()"
   ]
  },
  {
   "cell_type": "code",
   "execution_count": 91,
   "metadata": {},
   "outputs": [],
   "source": [
    "df5 = df4[df4.diff_pos < 100]\n",
    "df5 = df5.dropna()"
   ]
  },
  {
   "cell_type": "code",
   "execution_count": 92,
   "metadata": {},
   "outputs": [
    {
     "data": {
      "text/plain": [
       "99.98333333333335"
      ]
     },
     "execution_count": 92,
     "metadata": {},
     "output_type": "execute_result"
    }
   ],
   "source": [
    "max(df5.diff_pos)"
   ]
  },
  {
   "cell_type": "code",
   "execution_count": 93,
   "metadata": {},
   "outputs": [
    {
     "data": {
      "text/plain": [
       "3.891478930486604"
      ]
     },
     "execution_count": 93,
     "metadata": {},
     "output_type": "execute_result"
    }
   ],
   "source": [
    "rmse = np.sqrt(mean_squared_error(df5['arr_time'], df5['pred_time']))\n",
    "rmse"
   ]
  },
  {
   "cell_type": "code",
   "execution_count": 94,
   "metadata": {},
   "outputs": [],
   "source": [
    "#df3.to_csv('merged_data.csv')"
   ]
  }
 ],
 "metadata": {
  "kernelspec": {
   "display_name": "Python 3",
   "language": "python",
   "name": "python3"
  },
  "language_info": {
   "codemirror_mode": {
    "name": "ipython",
    "version": 3
   },
   "file_extension": ".py",
   "mimetype": "text/x-python",
   "name": "python",
   "nbconvert_exporter": "python",
   "pygments_lexer": "ipython3",
   "version": "3.6.5"
  }
 },
 "nbformat": 4,
 "nbformat_minor": 2
}
